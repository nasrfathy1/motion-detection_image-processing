{
 "cells": [
  {
   "cell_type": "code",
   "execution_count": null,
   "id": "8dc97d32",
   "metadata": {},
   "outputs": [],
   "source": [
    "#motion detection \n",
    "import cv2 \n",
    "import os \n",
    "cap=cv2.VideoCapture('/kaggle/input/input-videos/test-video.mp4')\n",
    "font=cv2.FONT_HERSHEY_SIMPLEX\n",
    "while True:\n",
    "    ret,frame1=cap.read()\n",
    "    ret,frame2=cap.read()\n",
    "    if ret ==True:\n",
    "        diff=cv2.absdiff(frame1,frame2)\n",
    "        gray=cv2.cvtColor(diff,cv2.COLOR_BGR2GRAY)\n",
    "        canny=cv2.Canny(gray,150,220)\n",
    "        gussian=cv2.GaussianBlur(canny,(5,5),0)\n",
    "        dilate=cv2.dilate(gussian,None,iterations=1)\n",
    "        conts,_=cv2.findContours(dilate,cv2.RETR_TREE,cv2.CHAIN_APPROX_NONE)\n",
    "        for i in conts:\n",
    "            if cv2.contourArea(i)<1000:\n",
    "                continue\n",
    "            (x,y,w,h)=cv2.boundingRect(i)\n",
    "            if h>50:\n",
    "                cv2.rectangle(frame1,(x,y),(x+w,y+h),(250,10,50),3)\n",
    "                cv2.putText(frame1,'Exist motion here',(20,25),font,1,color=(100,12,200),thickness=3)\n",
    "                \n",
    "        #motion=cv2.drawContours(frame1,cont,-1,3)\n",
    "        cv2.imshow('canny',frame1)\n",
    "        #cv2.imshow('gaussian',gussian)\n",
    "        if cv2.waitKey(1)==ord('q'):\n",
    "            break\n",
    "    else :\n",
    "        break\n",
    "cap.release()\n",
    "cv2.destroyAllWindow()"
   ]
  },
  {
   "cell_type": "code",
   "execution_count": null,
   "id": "c88bbb3c",
   "metadata": {},
   "outputs": [],
   "source": []
  }
 ],
 "metadata": {
  "kernelspec": {
   "display_name": "Python 3 (ipykernel)",
   "language": "python",
   "name": "python3"
  },
  "language_info": {
   "codemirror_mode": {
    "name": "ipython",
    "version": 3
   },
   "file_extension": ".py",
   "mimetype": "text/x-python",
   "name": "python",
   "nbconvert_exporter": "python",
   "pygments_lexer": "ipython3",
   "version": "3.10.9"
  }
 },
 "nbformat": 4,
 "nbformat_minor": 5
}
